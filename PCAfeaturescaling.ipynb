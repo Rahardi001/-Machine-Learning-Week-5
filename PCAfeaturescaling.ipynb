{
  "nbformat": 4,
  "nbformat_minor": 0,
  "metadata": {
    "colab": {
      "name": "Untitled8.ipynb",
      "provenance": [],
      "authorship_tag": "ABX9TyPUME1VOmZeZWE+6PaIiXq7",
      "include_colab_link": true
    },
    "kernelspec": {
      "name": "python3",
      "display_name": "Python 3"
    },
    "language_info": {
      "name": "python"
    }
  },
  "cells": [
    {
      "cell_type": "markdown",
      "metadata": {
        "id": "view-in-github",
        "colab_type": "text"
      },
      "source": [
        "<a href=\"https://colab.research.google.com/github/Rahardi001/-Machine-Learning-Week-5/blob/main/PCAfeaturescaling.ipynb\" target=\"_parent\"><img src=\"https://colab.research.google.com/assets/colab-badge.svg\" alt=\"Open In Colab\"/></a>"
      ]
    },
    {
      "cell_type": "code",
      "metadata": {
        "id": "IPe62SN1F7-3"
      },
      "source": [
        "from sklearn.model_selection import train_test_split\n",
        "from sklearn.preprocessing import StandardScaler\n",
        "from sklearn.decomposition import PCA\n",
        "from sklearn.naive_bayes import GaussianNB\n",
        "from sklearn import metrics\n",
        "import matplotlib.pyplot as plt\n",
        "from sklearn.datasets import load_wine\n",
        "from sklearn.pipeline import make_pipeline\n",
        "\n",
        "# Code source: Tyler Lanigan <tylerlanigan@gmail.com>\n",
        "#              Sebastian Raschka <mail@sebastianraschka.com>\n",
        "\n",
        "# License: BSD 3 clause"
      ],
      "execution_count": null,
      "outputs": []
    },
    {
      "cell_type": "code",
      "metadata": {
        "id": "ShOg8P9vF9JL"
      },
      "source": [
        "RANDOM_STATE = 42\n",
        "FIG_SIZE = (10, 7)"
      ],
      "execution_count": null,
      "outputs": []
    },
    {
      "cell_type": "code",
      "metadata": {
        "id": "RitcB269PYGn"
      },
      "source": [
        "features, target = load_wine(return_X_y=True)"
      ],
      "execution_count": null,
      "outputs": []
    },
    {
      "cell_type": "code",
      "metadata": {
        "id": "0yaZg_ZqPiSp"
      },
      "source": [
        "# Make a train/test split using 30% test size\n",
        "X_train, X_test, y_train, y_test = train_test_split(\n",
        "    features, target, test_size=0.30, random_state=RANDOM_STATE\n",
        ")"
      ],
      "execution_count": null,
      "outputs": []
    },
    {
      "cell_type": "code",
      "metadata": {
        "id": "0lVGRAaIPkg9"
      },
      "source": [
        "# Fit to data and predict using pipelined GNB and PCA.\n",
        "unscaled_clf = make_pipeline(PCA(n_components=2), GaussianNB())\n",
        "unscaled_clf.fit(X_train, y_train)\n",
        "pred_test = unscaled_clf.predict(X_test)"
      ],
      "execution_count": null,
      "outputs": []
    },
    {
      "cell_type": "code",
      "metadata": {
        "id": "MU10IoBWPp26"
      },
      "source": [
        "# Fit to data and predict using pipelined scaling, GNB and PCA.\n",
        "std_clf = make_pipeline(StandardScaler(), PCA(n_components=2), GaussianNB())\n",
        "std_clf.fit(X_train, y_train)\n",
        "pred_test_std = std_clf.predict(X_test)"
      ],
      "execution_count": null,
      "outputs": []
    },
    {
      "cell_type": "code",
      "metadata": {
        "id": "kyOeG6IPPqjp"
      },
      "source": [
        "# Show prediction accuracies in scaled and unscaled data.\n",
        "print(\"\\nPrediction accuracy for the normal test dataset with PCA\")\n",
        "print(\"{:.2%}\\n\".format(metrics.accuracy_score(y_test, pred_test)))"
      ],
      "execution_count": null,
      "outputs": []
    },
    {
      "cell_type": "code",
      "metadata": {
        "id": "SxQAgty5Pt3h"
      },
      "source": [
        "print(\"\\nPrediction accuracy for the standardized test dataset with PCA\")\n",
        "print(\"{:.2%}\\n\".format(metrics.accuracy_score(y_test, pred_test_std)))"
      ],
      "execution_count": null,
      "outputs": []
    },
    {
      "cell_type": "code",
      "metadata": {
        "id": "mzBbhc-gP0nx"
      },
      "source": [
        "# Extract PCA from pipeline\n",
        "pca = unscaled_clf.named_steps[\"pca\"]\n",
        "pca_std = std_clf.named_steps[\"pca\"]"
      ],
      "execution_count": null,
      "outputs": []
    },
    {
      "cell_type": "code",
      "metadata": {
        "id": "HoLTMuuNP1VC"
      },
      "source": [
        "# Show first principal components\n",
        "print(\"\\nPC 1 without scaling:\\n\", pca.components_[0])\n",
        "print(\"\\nPC 1 with scaling:\\n\", pca_std.components_[0])"
      ],
      "execution_count": null,
      "outputs": []
    },
    {
      "cell_type": "code",
      "metadata": {
        "id": "ZlnWAlcPP5Az"
      },
      "source": [
        "# Use PCA without and with scale on X_train data for visualization.\n",
        "X_train_transformed = pca.transform(X_train)\n",
        "scaler = std_clf.named_steps[\"standardscaler\"]\n",
        "X_train_std_transformed = pca_std.transform(scaler.transform(X_train))"
      ],
      "execution_count": null,
      "outputs": []
    },
    {
      "cell_type": "code",
      "metadata": {
        "id": "qNv22ZjwP_36"
      },
      "source": [
        "# visualize standardized vs. untouched dataset with PCA performed\n",
        "fig, (ax1, ax2) = plt.subplots(ncols=2, figsize=FIG_SIZE)\n",
        "for l, c, m in zip(range(0, 3), (\"blue\", \"red\", \"green\"), (\"^\", \"s\", \"o\")):\n",
        "    ax1.scatter(\n",
        "        X_train_transformed[y_train == l, 0],\n",
        "        X_train_transformed[y_train == l, 1],\n",
        "        color=c,\n",
        "        label=\"class %s\" % l,\n",
        "        alpha=0.5,\n",
        "        marker=m,\n",
        "    )\n",
        "\n",
        "for l, c, m in zip(range(0, 3), (\"blue\", \"red\", \"green\"), (\"^\", \"s\", \"o\")):\n",
        "    ax2.scatter(\n",
        "        X_train_std_transformed[y_train == l, 0],\n",
        "        X_train_std_transformed[y_train == l, 1],\n",
        "        color=c,\n",
        "        label=\"class %s\" % l,\n",
        "        alpha=0.5,\n",
        "        marker=m,\n",
        "    )\n",
        "    ax1.set_title(\"Training dataset after PCA\")\n",
        "ax2.set_title(\"Standardized training dataset after PCA\")\n",
        "for ax in (ax1, ax2):\n",
        "    ax.set_xlabel(\"1st principal component\")\n",
        "    ax.set_ylabel(\"2nd principal component\")\n",
        "    ax.legend(loc=\"upper right\")\n",
        "    ax.grid()\n",
        "\n",
        "    plt.tight_layout()\n",
        "    plt.show()"
      ],
      "execution_count": null,
      "outputs": []
    }
  ]
}