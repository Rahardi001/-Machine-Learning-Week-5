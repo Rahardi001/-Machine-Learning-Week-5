{
  "nbformat": 4,
  "nbformat_minor": 0,
  "metadata": {
    "colab": {
      "name": "SKlearn_PCA,_SVD_Dimensionality_Reduction.ipynb",
      "provenance": [],
      "collapsed_sections": []
    },
    "kernelspec": {
      "name": "python3",
      "display_name": "Python 3"
    },
    "language_info": {
      "name": "python"
    }
  },
  "cells": [
    {
      "cell_type": "code",
      "metadata": {
        "id": "82DgoV6Mn9CA"
      },
      "source": [
        "import pandas as pd\n",
        "import numpy as np \n",
        "from sklearn import linear_model\n",
        "from matplotlib import pyplot as plt\n",
        "from sklearn.ensemble import RandomForestClassifier\n",
        "from sklearn.model_selection import train_test_split\n",
        "from sklearn.decomposition import PCA,TruncatedSVD"
      ],
      "execution_count": null,
      "outputs": []
    },
    {
      "cell_type": "code",
      "metadata": {
        "id": "17bwPhI5n9HI"
      },
      "source": [
        "from sklearn.datasets import load_boston\n",
        "boston = load_boston()\n",
        "df_x = pd.DataFrame(boston.data, columns=boston.feature_names)\n",
        "df_y = pd.DataFrame(boston.target\n",
        "              "
      ],
      "execution_count": null,
      "outputs": []
    },
    {
      "cell_type": "code",
      "metadata": {
        "id": "L6CoIJ2ZoI7x"
      },
      "source": [
        "reg = linear_model.LinearRegression()\n",
        "x_train, x_test, y_train, y_test = train_test_split(df_x,df_y,test_size=0.2, random_state=4)\n",
        "reg.fit(x_train,y_train)"
      ],
      "execution_count": null,
      "outputs": []
    },
    {
      "cell_type": "code",
      "metadata": {
        "id": "8-PXzNJRoMiU"
      },
      "source": [
        "import pandas as pd\n",
        "import numpy as np \n",
        "from sklearn import linear_model\n",
        "from matplotlib import pyplot as plt\n",
        "from sklearn.ensemble import RandomForestClassifier\n",
        "from sklearn.model_selection import train_test_split\n",
        "from sklearn.decomposition import PCA,TruncatedSVD"
      ],
      "execution_count": null,
      "outputs": []
    },
    {
      "cell_type": "code",
      "metadata": {
        "id": "hiN-HMLXoNRQ"
      },
      "source": [
        "from sklearn.datasets import load_boston\n",
        "boston = load_boston()\n",
        "df_x = pd.DataFrame(boston.data, columns=boston.feature_names)\n",
        "df_y = pd.DataFrame(boston.target)"
      ],
      "execution_count": null,
      "outputs": []
    },
    {
      "cell_type": "code",
      "metadata": {
        "id": "KHFaWU4eoNbo"
      },
      "source": [
        "reg = linear_model.LinearRegression()\n",
        "x_train, x_test, y_train, y_test = train_test_split(df_x,df_y,test_size=0.2, random_state=4)\n",
        "reg.fit(x_train,y_train)"
      ],
      "execution_count": null,
      "outputs": []
    },
    {
      "cell_type": "code",
      "metadata": {
        "id": "evNJ0BkUoQkI"
      },
      "source": [
        "reg.score(x_test,y_test)"
      ],
      "execution_count": null,
      "outputs": []
    },
    {
      "cell_type": "code",
      "metadata": {
        "id": "SI9bxBIAoR-2"
      },
      "source": [
        "df_x.head()"
      ],
      "execution_count": null,
      "outputs": []
    },
    {
      "cell_type": "code",
      "metadata": {
        "id": "tcDjJZC-oSCH"
      },
      "source": [
        "pca = PCA(n_components=10, whiten='True')\n",
        "x = pca.fit(df_x).transform(df_x)"
      ],
      "execution_count": null,
      "outputs": []
    },
    {
      "cell_type": "code",
      "metadata": {
        "id": "-GZ9nBWMoSFx"
      },
      "source": [
        "pca.explained_variance_"
      ],
      "execution_count": null,
      "outputs": []
    },
    {
      "cell_type": "code",
      "metadata": {
        "id": "pD9_Eog8oSIS"
      },
      "source": [
        "reg = linear_model.LinearRegression()\n",
        "x_train, x_test, y_train, y_test = train_test_split(x,df_y,test_size=0.2, random_state=4)\n",
        "reg.fit(x_train,y_train)"
      ],
      "execution_count": null,
      "outputs": []
    },
    {
      "cell_type": "code",
      "metadata": {
        "id": "A7RAimawoZiv"
      },
      "source": [
        "reg.score(x_test,y_test)"
      ],
      "execution_count": null,
      "outputs": []
    },
    {
      "cell_type": "code",
      "metadata": {
        "id": "-QhWCVGhoZnk"
      },
      "source": [
        "svd = TruncatedSVD(n_components = 10)\n",
        "x = svd.fit(df_x).transform(df_x)\n",
        "reg = linear_model.LinearRegression()\n",
        "x_train, x_test, y_train, y_test = train_test_split(x,df_y,test_size=0.2, random_state=4)\n",
        "reg.fit(x_train,y_train)"
      ],
      "execution_count": null,
      "outputs": []
    },
    {
      "cell_type": "code",
      "metadata": {
        "id": "IjbuC2ZWoZqQ"
      },
      "source": [
        "reg.score(x_test,y_test)"
      ],
      "execution_count": null,
      "outputs": []
    },
    {
      "cell_type": "code",
      "metadata": {
        "id": "4YAiBEH9oZsh"
      },
      "source": [
        "df_x.corr()"
      ],
      "execution_count": null,
      "outputs": []
    },
    {
      "cell_type": "code",
      "metadata": {
        "id": "wBmvcGeOohdg"
      },
      "source": [
        "data=pd.read_csv('housing.csv')"
      ],
      "execution_count": null,
      "outputs": []
    },
    {
      "cell_type": "code",
      "metadata": {
        "id": "Aq9ZbGqTojKg"
      },
      "source": [
        "data.head()"
      ],
      "execution_count": null,
      "outputs": []
    },
    {
      "cell_type": "code",
      "metadata": {
        "id": "mO421EH3ojM-"
      },
      "source": [
        "df_x = data.iloc[:,1:]\n",
        "df_y = data.iloc[:,0]"
      ],
      "execution_count": null,
      "outputs": []
    },
    {
      "cell_type": "code",
      "metadata": {
        "id": "KEI70DBsojPB"
      },
      "source": [
        "x_train, x_test, y_train, y_test = train_test_split(df_x,df_y,test_size=0.2, random_state=4)\n",
        "rf = RandomForestClassifier(n_estimators = 50)\n",
        "rf.fit(x_train,y_train)"
      ],
      "execution_count": null,
      "outputs": []
    },
    {
      "cell_type": "code",
      "metadata": {
        "id": "Xfsf2f8xojRN"
      },
      "source": [
        "pred = rf.predict(x_test)"
      ],
      "execution_count": null,
      "outputs": []
    },
    {
      "cell_type": "code",
      "metadata": {
        "id": "PHaCCrpmojVA"
      },
      "source": [
        "s = y_test.values\n",
        "count = 0\n",
        "for i in range(len(pred)):\n",
        "    if pred[i]==s[i]:\n",
        "        count = count + 1"
      ],
      "execution_count": null,
      "outputs": []
    },
    {
      "cell_type": "code",
      "metadata": {
        "id": "Z-LF18UJojZD"
      },
      "source": [
        "count/float(len(pred))"
      ],
      "execution_count": null,
      "outputs": []
    },
    {
      "cell_type": "code",
      "metadata": {
        "id": "LfOvSvOZojbc"
      },
      "source": [
        "pca = PCA(n_components=10, whiten='True')\n",
        "x = pca.fit(df_x).transform(df_x)\n",
        "x_train, x_test, y_train, y_test = train_test_split(x,df_y,test_size=0.2, random_state=4)\n",
        "rf = RandomForestClassifier(n_estimators = 50)\n",
        "rf.fit(x_train,y_train)\n",
        "pred = rf.predict(x_test)\n",
        "s = y_test.values\n",
        "count = 0\n",
        "for i in range(len(pred)):\n",
        "    if pred[i]==s[i]:\n",
        "        count = count + 1"
      ],
      "execution_count": null,
      "outputs": []
    },
    {
      "cell_type": "code",
      "metadata": {
        "id": "axnvR7u2osoQ"
      },
      "source": [
        "count/float(len(pred))"
      ],
      "execution_count": null,
      "outputs": []
    },
    {
      "cell_type": "code",
      "metadata": {
        "id": "rozcQfVKosqx"
      },
      "source": [
        "pca.explained_variance_"
      ],
      "execution_count": null,
      "outputs": []
    },
    {
      "cell_type": "code",
      "metadata": {
        "id": "ZJgjVou9ossy"
      },
      "source": [
        "pca = PCA(n_components=2, whiten='True')\n",
        "x = pca.fit(df_x).transform(df_x)\n",
        "x_train, x_test, y_train, y_test = train_test_split(x,df_y,test_size=0.2, random_state=4)\n",
        "rf = RandomForestClassifier(n_estimators = 50)\n",
        "rf.fit(x_train,y_train)\n",
        "pred = rf.predict(x_test)\n",
        "s = y_test.values\n",
        "count = 0\n",
        "for i in range(len(pred)):\n",
        "    if pred[i]==s[i]:\n",
        "        count = count + 1"
      ],
      "execution_count": null,
      "outputs": []
    },
    {
      "cell_type": "code",
      "metadata": {
        "id": "Y2wAViPqosw1"
      },
      "source": [
        "count/float(len(pred))\n"
      ],
      "execution_count": null,
      "outputs": []
    },
    {
      "cell_type": "code",
      "metadata": {
        "id": "Q_bkMCqZoszL"
      },
      "source": [
        "y = df_y.values\n",
        "for i in range(5000):\n",
        "    if y[i]==0:\n",
        "        plt.scatter(x[i,1],x[i,0],c='r')\n",
        "    else:\n",
        "        plt.scatter(x[i,1],x[i,0],c='g')\n",
        "plt.show()"
      ],
      "execution_count": null,
      "outputs": []
    },
    {
      "cell_type": "code",
      "metadata": {
        "id": "ncq3v2NJos1Y"
      },
      "source": [
        "reg.score(x_test,y_test)"
      ],
      "execution_count": null,
      "outputs": []
    },
    {
      "cell_type": "code",
      "metadata": {
        "id": "6688enMFo4CK"
      },
      "source": [
        "df_x.head()"
      ],
      "execution_count": null,
      "outputs": []
    },
    {
      "cell_type": "code",
      "metadata": {
        "id": "od1-WfRSo4Ei"
      },
      "source": [
        "pca = PCA(n_components=10, whiten='True')\n",
        "x = pca.fit(df_x).transform(df_x)"
      ],
      "execution_count": null,
      "outputs": []
    },
    {
      "cell_type": "code",
      "metadata": {
        "id": "xN64Abgjo4G6"
      },
      "source": [
        "pca.explained_variance_"
      ],
      "execution_count": null,
      "outputs": []
    },
    {
      "cell_type": "code",
      "metadata": {
        "id": "ftmkHYdto4Ko"
      },
      "source": [
        "reg = linear_model.LinearRegression()\n",
        "x_train, x_test, y_train, y_test = train_test_split(x,df_y,test_size=0.2, random_state=4)\n",
        "reg.fit(x_train,y_train)"
      ],
      "execution_count": null,
      "outputs": []
    },
    {
      "cell_type": "code",
      "metadata": {
        "id": "3rR09Ufpo4NU"
      },
      "source": [
        "reg.score(x_test,y_test)"
      ],
      "execution_count": null,
      "outputs": []
    },
    {
      "cell_type": "code",
      "metadata": {
        "id": "AJ7jaAgno4Sk"
      },
      "source": [
        "svd = TruncatedSVD(n_components = 10)\n",
        "x = svd.fit(df_x).transform(df_x)\n",
        "reg = linear_model.LinearRegression()\n",
        "x_train, x_test, y_train, y_test = train_test_split(x,df_y,test_size=0.2, random_state=4)\n",
        "reg.fit(x_train,y_train)"
      ],
      "execution_count": null,
      "outputs": []
    },
    {
      "cell_type": "code",
      "metadata": {
        "id": "YZ7eHvZZo_Sw"
      },
      "source": [
        "reg.score(x_test,y_test)"
      ],
      "execution_count": null,
      "outputs": []
    },
    {
      "cell_type": "code",
      "metadata": {
        "id": "6KjDzgtMo_U_"
      },
      "source": [
        "df_x.corr()"
      ],
      "execution_count": null,
      "outputs": []
    },
    {
      "cell_type": "code",
      "metadata": {
        "id": "QI5NwqMNo_XK"
      },
      "source": [
        "data=pd.read_csv('housing.csv')"
      ],
      "execution_count": null,
      "outputs": []
    },
    {
      "cell_type": "code",
      "metadata": {
        "id": "97a5__u9o_Ze"
      },
      "source": [
        "data.head()"
      ],
      "execution_count": null,
      "outputs": []
    },
    {
      "cell_type": "code",
      "metadata": {
        "id": "oPYpKL-HpFAI"
      },
      "source": [
        "df_x = data.iloc[:,1:]\n",
        "df_y = data.iloc[:,0]"
      ],
      "execution_count": null,
      "outputs": []
    },
    {
      "cell_type": "code",
      "metadata": {
        "id": "m9YCRtEWpFCx"
      },
      "source": [
        "x_train, x_test, y_train, y_test = train_test_split(df_x,df_y,test_size=0.2, random_state=4)\n",
        "rf = RandomForestClassifier(n_estimators = 50)\n",
        "rf.fit(x_train,y_train)"
      ],
      "execution_count": null,
      "outputs": []
    },
    {
      "cell_type": "code",
      "metadata": {
        "id": "OBje_FsspFE7"
      },
      "source": [
        "pred = rf.predict(x_test)"
      ],
      "execution_count": null,
      "outputs": []
    },
    {
      "cell_type": "code",
      "metadata": {
        "id": "eKrsBwDopFI3"
      },
      "source": [
        "s = y_test.values\n",
        "count = 0\n",
        "for i in range(len(pred)):\n",
        "    if pred[i]==s[i]:\n",
        "        count = count + 1"
      ],
      "execution_count": null,
      "outputs": []
    },
    {
      "cell_type": "code",
      "metadata": {
        "id": "9SCubw_apFLJ"
      },
      "source": [
        "count/float(len(pred))"
      ],
      "execution_count": null,
      "outputs": []
    },
    {
      "cell_type": "code",
      "metadata": {
        "id": "qYEwIoW8pLDw"
      },
      "source": [
        "pca = PCA(n_components=10, whiten='True')\n",
        "x = pca.fit(df_x).transform(df_x)\n",
        "x_train, x_test, y_train, y_test = train_test_split(x,df_y,test_size=0.2, random_state=4)\n",
        "rf = RandomForestClassifier(n_estimators = 50)\n",
        "rf.fit(x_train,y_train)\n",
        "pred = rf.predict(x_test)\n",
        "s = y_test.values\n",
        "count = 0\n",
        "for i in range(len(pred)):\n",
        "    if pred[i]==s[i]:\n",
        "        count = count + 1"
      ],
      "execution_count": null,
      "outputs": []
    },
    {
      "cell_type": "code",
      "metadata": {
        "id": "cD0mE6WKpNg6"
      },
      "source": [
        "count/float(len(pred))"
      ],
      "execution_count": null,
      "outputs": []
    },
    {
      "cell_type": "code",
      "metadata": {
        "id": "Xct9RBf4pNn5"
      },
      "source": [
        "pca.explained_variance_"
      ],
      "execution_count": null,
      "outputs": []
    },
    {
      "cell_type": "code",
      "metadata": {
        "id": "4L2AiGKwpNsA"
      },
      "source": [
        "pca = PCA(n_components=2, whiten='True')\n",
        "x = pca.fit(df_x).transform(df_x)\n",
        "x_train, x_test, y_train, y_test = train_test_split(x,df_y,test_size=0.2, random_state=4)\n",
        "rf = RandomForestClassifier(n_estimators = 50)\n",
        "rf.fit(x_train,y_train)\n",
        "pred = rf.predict(x_test)\n",
        "s = y_test.values\n",
        "count = 0\n",
        "for i in range(len(pred)):\n",
        "    if pred[i]==s[i]:\n",
        "        count = count + 1"
      ],
      "execution_count": null,
      "outputs": []
    },
    {
      "cell_type": "code",
      "metadata": {
        "id": "ubZsmam6pQnB"
      },
      "source": [
        "count/float(len(pred))"
      ],
      "execution_count": null,
      "outputs": []
    },
    {
      "cell_type": "code",
      "metadata": {
        "id": "ueww9zuZpQpr"
      },
      "source": [
        "y = df_y.values\n",
        "for i in range(5000):\n",
        "    if y[i]==0:\n",
        "        plt.scatter(x[i,1],x[i,0],c='r')\n",
        "    else:\n",
        "        plt.scatter(x[i,1],x[i,0],c='g')\n",
        "plt.show()"
      ],
      "execution_count": null,
      "outputs": []
    }
  ]
}
